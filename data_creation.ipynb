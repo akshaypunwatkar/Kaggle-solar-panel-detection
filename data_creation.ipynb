{
 "cells": [
  {
   "cell_type": "code",
   "execution_count": 4,
   "metadata": {},
   "outputs": [],
   "source": [
    "import pandas as pd\n",
    "from shutil import copy2\n",
    "import os\n",
    "\n",
    "train_labels = pd.read_csv(\"Data/labels_training.csv\")\n",
    "\n",
    "train_count = 0\n",
    "test_count = 0\n",
    "for i in range(len(train_labels)):\n",
    "    if train_labels.iloc[i,1] == 1:\n",
    "        file = str(i)+\".tif\"\n",
    "        source = os.getcwd()+\"/Data/training/\"+file\n",
    "        if train_count < 456 :\n",
    "            target = os.getcwd()+\"/dataset/training/solar\"\n",
    "        else :\n",
    "            target = os.getcwd()+\"/dataset/validation/solar\"\n",
    "        copy2(source,target)\n",
    "        train_count +=1\n",
    "    else:\n",
    "        file = str(i)+\".tif\"\n",
    "        source = os.getcwd()+\"/Data/Training/\"+file\n",
    "        if test_count < 946:\n",
    "            target = os.getcwd()+\"/dataset/training/non-solar\"\n",
    "        else:\n",
    "            target = os.getcwd()+\"/dataset/validation/non-solar\"\n",
    "        copy2(source,target)\n",
    "        test_count +=1\n",
    "        "
   ]
  },
  {
   "cell_type": "code",
   "execution_count": null,
   "metadata": {},
   "outputs": [],
   "source": []
  }
 ],
 "metadata": {
  "kernelspec": {
   "display_name": "Python 3",
   "language": "python",
   "name": "python3"
  },
  "language_info": {
   "codemirror_mode": {
    "name": "ipython",
    "version": 3
   },
   "file_extension": ".py",
   "mimetype": "text/x-python",
   "name": "python",
   "nbconvert_exporter": "python",
   "pygments_lexer": "ipython3",
   "version": "3.7.4"
  }
 },
 "nbformat": 4,
 "nbformat_minor": 4
}
